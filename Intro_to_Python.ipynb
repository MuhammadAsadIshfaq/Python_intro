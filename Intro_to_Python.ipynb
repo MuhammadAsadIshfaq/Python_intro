{
 "cells": [
  {
   "cell_type": "markdown",
   "id": "d9733c4c",
   "metadata": {},
   "source": [
    "# Introduction to Python"
   ]
  },
  {
   "cell_type": "markdown",
   "id": "948ed03f",
   "metadata": {},
   "source": [
    "# Variables, Numbers and Strings"
   ]
  },
  {
   "cell_type": "code",
   "execution_count": 1,
   "id": "9b0fb135",
   "metadata": {},
   "outputs": [],
   "source": [
    "var1 = 1\n",
    "str_var1 = 'Asad'"
   ]
  },
  {
   "cell_type": "code",
   "execution_count": 2,
   "id": "88ea4847",
   "metadata": {},
   "outputs": [
    {
     "data": {
      "text/plain": [
       "int"
      ]
     },
     "execution_count": 2,
     "metadata": {},
     "output_type": "execute_result"
    }
   ],
   "source": [
    "int_var = 2\n",
    "float_var = 5.0\n",
    "type(int_var)"
   ]
  },
  {
   "cell_type": "code",
   "execution_count": 3,
   "id": "a2c7b5ba",
   "metadata": {},
   "outputs": [
    {
     "data": {
      "text/plain": [
       "float"
      ]
     },
     "execution_count": 3,
     "metadata": {},
     "output_type": "execute_result"
    }
   ],
   "source": [
    "type(float_var)"
   ]
  },
  {
   "cell_type": "code",
   "execution_count": 4,
   "id": "dc5c8725",
   "metadata": {},
   "outputs": [
    {
     "data": {
      "text/plain": [
       "101"
      ]
     },
     "execution_count": 4,
     "metadata": {},
     "output_type": "execute_result"
    }
   ],
   "source": [
    "1+100"
   ]
  },
  {
   "cell_type": "code",
   "execution_count": 5,
   "id": "c73ef891",
   "metadata": {},
   "outputs": [
    {
     "data": {
      "text/plain": [
       "100"
      ]
     },
     "execution_count": 5,
     "metadata": {},
     "output_type": "execute_result"
    }
   ],
   "source": [
    "1*100"
   ]
  },
  {
   "cell_type": "code",
   "execution_count": 6,
   "id": "3915ee67",
   "metadata": {},
   "outputs": [
    {
     "data": {
      "text/plain": [
       "4"
      ]
     },
     "execution_count": 6,
     "metadata": {},
     "output_type": "execute_result"
    }
   ],
   "source": [
    "8//2"
   ]
  },
  {
   "cell_type": "code",
   "execution_count": 7,
   "id": "870a13b7",
   "metadata": {},
   "outputs": [
    {
     "data": {
      "text/plain": [
       "1"
      ]
     },
     "execution_count": 7,
     "metadata": {},
     "output_type": "execute_result"
    }
   ],
   "source": [
    "1%100"
   ]
  },
  {
   "cell_type": "code",
   "execution_count": 8,
   "id": "48fd6dda",
   "metadata": {},
   "outputs": [
    {
     "data": {
      "text/plain": [
       "0"
      ]
     },
     "execution_count": 8,
     "metadata": {},
     "output_type": "execute_result"
    }
   ],
   "source": [
    "100%1"
   ]
  },
  {
   "cell_type": "code",
   "execution_count": 9,
   "id": "d581267c",
   "metadata": {},
   "outputs": [
    {
     "data": {
      "text/plain": [
       "0"
      ]
     },
     "execution_count": 9,
     "metadata": {},
     "output_type": "execute_result"
    }
   ],
   "source": [
    "10%2"
   ]
  },
  {
   "cell_type": "code",
   "execution_count": 10,
   "id": "47144556",
   "metadata": {},
   "outputs": [
    {
     "data": {
      "text/plain": [
       "4"
      ]
     },
     "execution_count": 10,
     "metadata": {},
     "output_type": "execute_result"
    }
   ],
   "source": [
    "2**2"
   ]
  },
  {
   "cell_type": "code",
   "execution_count": 11,
   "id": "d7342674",
   "metadata": {},
   "outputs": [
    {
     "name": "stdout",
     "output_type": "stream",
     "text": [
      "102\n"
     ]
    }
   ],
   "source": [
    "print(2+100)"
   ]
  },
  {
   "cell_type": "markdown",
   "id": "b15420fb",
   "metadata": {},
   "source": [
    "# Strings"
   ]
  },
  {
   "cell_type": "code",
   "execution_count": 12,
   "id": "75021a94",
   "metadata": {},
   "outputs": [],
   "source": [
    "var = 'string'\n",
    "var2 = \"asad\""
   ]
  },
  {
   "cell_type": "code",
   "execution_count": 13,
   "id": "4bc88f0e",
   "metadata": {},
   "outputs": [
    {
     "data": {
      "text/plain": [
       "'stringasad'"
      ]
     },
     "execution_count": 13,
     "metadata": {},
     "output_type": "execute_result"
    }
   ],
   "source": [
    "var+var2"
   ]
  },
  {
   "cell_type": "code",
   "execution_count": 16,
   "id": "41880a9d",
   "metadata": {},
   "outputs": [
    {
     "data": {
      "text/plain": [
       "'string and asad'"
      ]
     },
     "execution_count": 16,
     "metadata": {},
     "output_type": "execute_result"
    }
   ],
   "source": [
    "var+' '+\"and\"+' '+var2"
   ]
  },
  {
   "cell_type": "code",
   "execution_count": 17,
   "id": "e4df8405",
   "metadata": {},
   "outputs": [
    {
     "name": "stdout",
     "output_type": "stream",
     "text": [
      "This is a string\n"
     ]
    }
   ],
   "source": [
    "print(\"This is a string\")"
   ]
  },
  {
   "cell_type": "code",
   "execution_count": 19,
   "id": "f29ed2d7",
   "metadata": {},
   "outputs": [
    {
     "data": {
      "text/plain": [
       "False"
      ]
     },
     "execution_count": 19,
     "metadata": {},
     "output_type": "execute_result"
    }
   ],
   "source": [
    "'A string' == 'a string'"
   ]
  },
  {
   "cell_type": "code",
   "execution_count": 20,
   "id": "3203042f",
   "metadata": {},
   "outputs": [],
   "source": [
    "sentence = 'THIs IS A string'"
   ]
  },
  {
   "cell_type": "code",
   "execution_count": 23,
   "id": "78eefb33",
   "metadata": {},
   "outputs": [
    {
     "data": {
      "text/plain": [
       "'This is a string'"
      ]
     },
     "execution_count": 23,
     "metadata": {},
     "output_type": "execute_result"
    }
   ],
   "source": [
    "sentence.capitalize()"
   ]
  },
  {
   "cell_type": "code",
   "execution_count": 24,
   "id": "21be80d7",
   "metadata": {},
   "outputs": [],
   "source": [
    "sentence2 = \"Thsi is a TITled\""
   ]
  },
  {
   "cell_type": "code",
   "execution_count": 25,
   "id": "3e2757fc",
   "metadata": {},
   "outputs": [
    {
     "data": {
      "text/plain": [
       "'Thsi Is A Titled'"
      ]
     },
     "execution_count": 25,
     "metadata": {},
     "output_type": "execute_result"
    }
   ],
   "source": [
    "sentence2.title()"
   ]
  },
  {
   "cell_type": "code",
   "execution_count": 26,
   "id": "660aa8ce",
   "metadata": {},
   "outputs": [
    {
     "data": {
      "text/plain": [
       "'THIS IS A STRING'"
      ]
     },
     "execution_count": 26,
     "metadata": {},
     "output_type": "execute_result"
    }
   ],
   "source": [
    "sentence.upper()"
   ]
  },
  {
   "cell_type": "code",
   "execution_count": 27,
   "id": "76257356",
   "metadata": {},
   "outputs": [
    {
     "data": {
      "text/plain": [
       "'this is a string'"
      ]
     },
     "execution_count": 27,
     "metadata": {},
     "output_type": "execute_result"
    }
   ],
   "source": [
    "sentence.lower()"
   ]
  },
  {
   "cell_type": "code",
   "execution_count": 28,
   "id": "bb16af24",
   "metadata": {},
   "outputs": [
    {
     "data": {
      "text/plain": [
       "['THIs', 'IS', 'A', 'string']"
      ]
     },
     "execution_count": 28,
     "metadata": {},
     "output_type": "execute_result"
    }
   ],
   "source": [
    "sentence.split()"
   ]
  },
  {
   "cell_type": "code",
   "execution_count": 29,
   "id": "4a603fe7",
   "metadata": {},
   "outputs": [
    {
     "data": {
      "text/plain": [
       "'This Food is awesome'"
      ]
     },
     "execution_count": 29,
     "metadata": {},
     "output_type": "execute_result"
    }
   ],
   "source": [
    "stri = 'This meal is awesome'\n",
    "stri.replace('meal','Food')"
   ]
  },
  {
   "cell_type": "code",
   "execution_count": 36,
   "id": "16ea1d85",
   "metadata": {},
   "outputs": [
    {
     "data": {
      "text/plain": [
       "'Our%10Future%10is%10bright'"
      ]
     },
     "execution_count": 36,
     "metadata": {},
     "output_type": "execute_result"
    }
   ],
   "source": [
    "# replace all spaces with %10\n",
    "sri2 = 'Our Future is bright'\n",
    "sri2.replace(' ','%10')"
   ]
  },
  {
   "cell_type": "markdown",
   "id": "fef690d4",
   "metadata": {},
   "source": [
    "# Data Structures"
   ]
  },
  {
   "cell_type": "markdown",
   "id": "8627c783",
   "metadata": {},
   "source": [
    "# LIST"
   ]
  },
  {
   "cell_type": "code",
   "execution_count": 37,
   "id": "272691a5",
   "metadata": {},
   "outputs": [
    {
     "name": "stdout",
     "output_type": "stream",
     "text": [
      "['mon', 'Tue', 'Wed', 'Thur', 'Fri']\n"
     ]
    }
   ],
   "source": [
    "week_days  = ['mon','Tue','Wed','Thur','Fri']\n",
    "even = [2,4,6,8,10]\n",
    "mixed = ['mon',2,'Tue',4]\n",
    "print(week_days)"
   ]
  },
  {
   "cell_type": "code",
   "execution_count": 38,
   "id": "af212d31",
   "metadata": {},
   "outputs": [
    {
     "name": "stdout",
     "output_type": "stream",
     "text": [
      "0\n",
      "1\n",
      "2\n",
      "3\n",
      "4\n",
      "5\n",
      "6\n"
     ]
    }
   ],
   "source": [
    "num = range(7)\n",
    "for i in num:\n",
    "    print(i)"
   ]
  },
  {
   "cell_type": "code",
   "execution_count": 40,
   "id": "d45f3c77",
   "metadata": {},
   "outputs": [
    {
     "data": {
      "text/plain": [
       "'mon'"
      ]
     },
     "execution_count": 40,
     "metadata": {},
     "output_type": "execute_result"
    }
   ],
   "source": [
    "# Accessing Elements in lists\n",
    "week_days[0]"
   ]
  },
  {
   "cell_type": "code",
   "execution_count": 41,
   "id": "cb60d06f",
   "metadata": {},
   "outputs": [
    {
     "data": {
      "text/plain": [
       "6"
      ]
     },
     "execution_count": 41,
     "metadata": {},
     "output_type": "execute_result"
    }
   ],
   "source": [
    "even[2]"
   ]
  },
  {
   "cell_type": "code",
   "execution_count": 42,
   "id": "cbf2ddfc",
   "metadata": {},
   "outputs": [
    {
     "name": "stdout",
     "output_type": "stream",
     "text": [
      "10\n"
     ]
    }
   ],
   "source": [
    "print(even[-1])"
   ]
  },
  {
   "cell_type": "markdown",
   "id": "dd8ba709",
   "metadata": {},
   "source": [
    "# Slicing"
   ]
  },
  {
   "cell_type": "code",
   "execution_count": 43,
   "id": "20316204",
   "metadata": {},
   "outputs": [
    {
     "data": {
      "text/plain": [
       "['mon', 'Tue']"
      ]
     },
     "execution_count": 43,
     "metadata": {},
     "output_type": "execute_result"
    }
   ],
   "source": [
    "week_days[0:2]"
   ]
  },
  {
   "cell_type": "code",
   "execution_count": 44,
   "id": "8b71f07f",
   "metadata": {},
   "outputs": [
    {
     "data": {
      "text/plain": [
       "['Tue', 'Wed', 'Thur', 'Fri']"
      ]
     },
     "execution_count": 44,
     "metadata": {},
     "output_type": "execute_result"
    }
   ],
   "source": [
    "week_days[-4:]"
   ]
  },
  {
   "cell_type": "code",
   "execution_count": 45,
   "id": "d959247e",
   "metadata": {},
   "outputs": [
    {
     "data": {
      "text/plain": [
       "['mon', 'Tue', 'Wed', 'Thur']"
      ]
     },
     "execution_count": 45,
     "metadata": {},
     "output_type": "execute_result"
    }
   ],
   "source": [
    "week_days[:4]"
   ]
  },
  {
   "cell_type": "code",
   "execution_count": 46,
   "id": "09be85e6",
   "metadata": {},
   "outputs": [
    {
     "data": {
      "text/plain": [
       "['mon', 'Tue', 'Wed', 'Thur', 'Fri']"
      ]
     },
     "execution_count": 46,
     "metadata": {},
     "output_type": "execute_result"
    }
   ],
   "source": [
    "week_days[:]"
   ]
  },
  {
   "cell_type": "code",
   "execution_count": 47,
   "id": "cbc5e0e2",
   "metadata": {},
   "outputs": [
    {
     "data": {
      "text/plain": [
       "['asad', 'rana', 'usam', 'usman']"
      ]
     },
     "execution_count": 47,
     "metadata": {},
     "output_type": "execute_result"
    }
   ],
   "source": [
    "names = ['asad','rana','usam','usman']\n",
    "names"
   ]
  },
  {
   "cell_type": "code",
   "execution_count": 49,
   "id": "2fff6388",
   "metadata": {},
   "outputs": [
    {
     "data": {
      "text/plain": [
       "['rana', 'asad', 'usam', 'usman']"
      ]
     },
     "execution_count": 49,
     "metadata": {},
     "output_type": "execute_result"
    }
   ],
   "source": [
    "names[0:2] = ['rana','asad']\n",
    "names"
   ]
  },
  {
   "cell_type": "code",
   "execution_count": 50,
   "id": "840e7be1",
   "metadata": {},
   "outputs": [
    {
     "data": {
      "text/plain": [
       "['rana', 'asad', 'usam', 'sanm']"
      ]
     },
     "execution_count": 50,
     "metadata": {},
     "output_type": "execute_result"
    }
   ],
   "source": [
    "names[-1] = 'sanm'\n",
    "names"
   ]
  },
  {
   "cell_type": "code",
   "execution_count": 51,
   "id": "a8af2f6d",
   "metadata": {},
   "outputs": [],
   "source": [
    "del names[3]"
   ]
  },
  {
   "cell_type": "code",
   "execution_count": 53,
   "id": "ddfe021f",
   "metadata": {},
   "outputs": [
    {
     "data": {
      "text/plain": [
       "['rana', 'asad', 'usam']"
      ]
     },
     "execution_count": 53,
     "metadata": {},
     "output_type": "execute_result"
    }
   ],
   "source": [
    "names"
   ]
  },
  {
   "cell_type": "code",
   "execution_count": 55,
   "id": "702ea1d1",
   "metadata": {},
   "outputs": [
    {
     "data": {
      "text/plain": [
       "['asad', 'rana', 'usman']"
      ]
     },
     "execution_count": 55,
     "metadata": {},
     "output_type": "execute_result"
    }
   ],
   "source": [
    "names = ['asad','rana','usam','usman']\n",
    "names.pop(2)\n",
    "names"
   ]
  },
  {
   "cell_type": "code",
   "execution_count": 56,
   "id": "70643ab5",
   "metadata": {},
   "outputs": [
    {
     "data": {
      "text/plain": [
       "['asad', 'rana', 'usam']"
      ]
     },
     "execution_count": 56,
     "metadata": {},
     "output_type": "execute_result"
    }
   ],
   "source": [
    "names = ['asad','rana','usam','usman']\n",
    "names.remove('usman')\n",
    "names"
   ]
  },
  {
   "cell_type": "code",
   "execution_count": 57,
   "id": "a345ba0c",
   "metadata": {},
   "outputs": [
    {
     "data": {
      "text/plain": [
       "['asad', 'rana', 'usam', 'rashid']"
      ]
     },
     "execution_count": 57,
     "metadata": {},
     "output_type": "execute_result"
    }
   ],
   "source": [
    "# Adding an  item to the list\n",
    "names.append('rashid')\n",
    "names"
   ]
  },
  {
   "cell_type": "code",
   "execution_count": 58,
   "id": "fd84a6e5",
   "metadata": {},
   "outputs": [
    {
     "name": "stdout",
     "output_type": "stream",
     "text": [
      "asad\n",
      "rana\n",
      "usam\n",
      "rashid\n"
     ]
    }
   ],
   "source": [
    "for name in names:\n",
    "    print(name)"
   ]
  },
  {
   "cell_type": "code",
   "execution_count": 60,
   "id": "eae3f005",
   "metadata": {},
   "outputs": [
    {
     "data": {
      "text/plain": [
       "[2, 4, 6, 8, 10, 12]"
      ]
     },
     "execution_count": 60,
     "metadata": {},
     "output_type": "execute_result"
    }
   ],
   "source": [
    "nums = [1,2,3,4,5,6]\n",
    "new_num = []\n",
    "for i in range(len(nums)):\n",
    "    num = nums[i]+i+1\n",
    "    new_num.append(num)\n",
    "new_num"
   ]
  },
  {
   "cell_type": "code",
   "execution_count": 61,
   "id": "16bc6235",
   "metadata": {},
   "outputs": [
    {
     "data": {
      "text/plain": [
       "[1, 2, 3, 4, 4, 3, 2, 1]"
      ]
     },
     "execution_count": 61,
     "metadata": {},
     "output_type": "execute_result"
    }
   ],
   "source": [
    "# add twwo list\n",
    "a = [1,2,3,4]\n",
    "b = [4,3,2,1]\n",
    "c = a + b\n",
    "c"
   ]
  },
  {
   "cell_type": "code",
   "execution_count": 62,
   "id": "88d8654e",
   "metadata": {},
   "outputs": [
    {
     "data": {
      "text/plain": [
       "[list, list, list, list, list]"
      ]
     },
     "execution_count": 62,
     "metadata": {},
     "output_type": "execute_result"
    }
   ],
   "source": [
    "## We can also use * operator to repeat a list a number of times\n",
    "[list] * 5"
   ]
  },
  {
   "cell_type": "code",
   "execution_count": 63,
   "id": "3caeb583",
   "metadata": {},
   "outputs": [
    {
     "data": {
      "text/plain": [
       "[True, True, True, True]"
      ]
     },
     "execution_count": 63,
     "metadata": {},
     "output_type": "execute_result"
    }
   ],
   "source": [
    "[True] * 4"
   ]
  },
  {
   "cell_type": "code",
   "execution_count": 66,
   "id": "6eb74a10",
   "metadata": {},
   "outputs": [
    {
     "data": {
      "text/plain": [
       "[1, 2, 3, 4, 1, 2, 3, 4]"
      ]
     },
     "execution_count": 66,
     "metadata": {},
     "output_type": "execute_result"
    }
   ],
   "source": [
    "[1,2,3,4] * 2"
   ]
  },
  {
   "cell_type": "code",
   "execution_count": 68,
   "id": "90ac9d07",
   "metadata": {},
   "outputs": [
    {
     "data": {
      "text/plain": [
       "['a', 'b']"
      ]
     },
     "execution_count": 68,
     "metadata": {},
     "output_type": "execute_result"
    }
   ],
   "source": [
    "nested_list = [1,2,3,['a','b']]\n",
    "nested_list[3]"
   ]
  },
  {
   "cell_type": "markdown",
   "id": "e9f3e1fb",
   "metadata": {},
   "source": [
    "# List Methods"
   ]
  },
  {
   "cell_type": "code",
   "execution_count": 69,
   "id": "7c245a15",
   "metadata": {},
   "outputs": [],
   "source": [
    "number = [2,30,32,294,22,293]\n",
    "number.sort()"
   ]
  },
  {
   "cell_type": "code",
   "execution_count": 70,
   "id": "3086121c",
   "metadata": {},
   "outputs": [
    {
     "data": {
      "text/plain": [
       "[2, 22, 30, 32, 293, 294]"
      ]
     },
     "execution_count": 70,
     "metadata": {},
     "output_type": "execute_result"
    }
   ],
   "source": [
    "number"
   ]
  },
  {
   "cell_type": "code",
   "execution_count": 71,
   "id": "142968f1",
   "metadata": {},
   "outputs": [
    {
     "data": {
      "text/plain": [
       "[294, 293, 32, 30, 22, 2]"
      ]
     },
     "execution_count": 71,
     "metadata": {},
     "output_type": "execute_result"
    }
   ],
   "source": [
    "number.reverse()\n",
    "number"
   ]
  },
  {
   "cell_type": "code",
   "execution_count": 72,
   "id": "7157ee36",
   "metadata": {},
   "outputs": [
    {
     "data": {
      "text/plain": [
       "[294, 293, 32, 30, 22, 2, 232]"
      ]
     },
     "execution_count": 72,
     "metadata": {},
     "output_type": "execute_result"
    }
   ],
   "source": [
    "number.append(232)\n",
    "number"
   ]
  },
  {
   "cell_type": "code",
   "execution_count": 73,
   "id": "dfcf8992",
   "metadata": {},
   "outputs": [
    {
     "data": {
      "text/plain": [
       "[294, 293, 32, 30, 22, 2]"
      ]
     },
     "execution_count": 73,
     "metadata": {},
     "output_type": "execute_result"
    }
   ],
   "source": [
    "number.remove(232)\n",
    "number"
   ]
  },
  {
   "cell_type": "code",
   "execution_count": 74,
   "id": "73aa8407",
   "metadata": {},
   "outputs": [
    {
     "data": {
      "text/plain": [
       "[294, 32, 30, 22, 2]"
      ]
     },
     "execution_count": 74,
     "metadata": {},
     "output_type": "execute_result"
    }
   ],
   "source": [
    "number.pop(1)\n",
    "number"
   ]
  },
  {
   "cell_type": "code",
   "execution_count": 76,
   "id": "39756d24",
   "metadata": {},
   "outputs": [
    {
     "data": {
      "text/plain": [
       "1"
      ]
     },
     "execution_count": 76,
     "metadata": {},
     "output_type": "execute_result"
    }
   ],
   "source": [
    "number.count(2)"
   ]
  },
  {
   "cell_type": "code",
   "execution_count": 77,
   "id": "630ee0c5",
   "metadata": {},
   "outputs": [
    {
     "data": {
      "text/plain": [
       "['A', 'p', 'p', 'l', 'e']"
      ]
     },
     "execution_count": 77,
     "metadata": {},
     "output_type": "execute_result"
    }
   ],
   "source": [
    "stri = \"Apple\"\n",
    "list(stri)"
   ]
  },
  {
   "cell_type": "code",
   "execution_count": 78,
   "id": "8ebaef28",
   "metadata": {},
   "outputs": [
    {
     "data": {
      "text/plain": [
       "['List', 'and', 'Strings']"
      ]
     },
     "execution_count": 78,
     "metadata": {},
     "output_type": "execute_result"
    }
   ],
   "source": [
    "stri2 = 'List and Strings'\n",
    "stri2.split()"
   ]
  },
  {
   "cell_type": "markdown",
   "id": "c03c6197",
   "metadata": {},
   "source": [
    "# Dictionary"
   ]
  },
  {
   "cell_type": "code",
   "execution_count": 79,
   "id": "3c5b4cc0",
   "metadata": {},
   "outputs": [
    {
     "data": {
      "text/plain": [
       "{}"
      ]
     },
     "execution_count": 79,
     "metadata": {},
     "output_type": "execute_result"
    }
   ],
   "source": [
    "countries = dict()\n",
    "countries"
   ]
  },
  {
   "cell_type": "code",
   "execution_count": 81,
   "id": "6ea6174c",
   "metadata": {},
   "outputs": [
    {
     "data": {
      "text/plain": [
       "dict"
      ]
     },
     "execution_count": 81,
     "metadata": {},
     "output_type": "execute_result"
    }
   ],
   "source": [
    "type(countries)"
   ]
  },
  {
   "cell_type": "code",
   "execution_count": 82,
   "id": "2d11fe3b",
   "metadata": {},
   "outputs": [
    {
     "data": {
      "text/plain": [
       "{'Pakistan': 1}"
      ]
     },
     "execution_count": 82,
     "metadata": {},
     "output_type": "execute_result"
    }
   ],
   "source": [
    "countries['Pakistan'] = 1\n",
    "countries"
   ]
  },
  {
   "cell_type": "code",
   "execution_count": 84,
   "id": "1f8da87d",
   "metadata": {},
   "outputs": [
    {
     "data": {
      "text/plain": [
       "{'pakistan': 1, 'Unitedstate': 23, 'INdia': 22, 'China': 44}"
      ]
     },
     "execution_count": 84,
     "metadata": {},
     "output_type": "execute_result"
    }
   ],
   "source": [
    "countries = {'pakistan':1,\n",
    "          'Unitedstate':23,\n",
    "          \"INdia\":22,\n",
    "          'China':44}\n",
    "countries"
   ]
  },
  {
   "cell_type": "code",
   "execution_count": 85,
   "id": "804c165b",
   "metadata": {},
   "outputs": [
    {
     "data": {
      "text/plain": [
       "{'pakistan': 1, 'Unitedstate': 23, 'INdia': 22, 'China': 44, 'Austrailia': 21}"
      ]
     },
     "execution_count": 85,
     "metadata": {},
     "output_type": "execute_result"
    }
   ],
   "source": [
    "countries['Austrailia'] = 21\n",
    "countries"
   ]
  },
  {
   "cell_type": "code",
   "execution_count": 87,
   "id": "51fddfcc",
   "metadata": {},
   "outputs": [
    {
     "data": {
      "text/plain": [
       "22"
      ]
     },
     "execution_count": 87,
     "metadata": {},
     "output_type": "execute_result"
    }
   ],
   "source": [
    "countries['INdia']"
   ]
  },
  {
   "cell_type": "code",
   "execution_count": 89,
   "id": "6ffc5705",
   "metadata": {},
   "outputs": [
    {
     "data": {
      "text/plain": [
       "True"
      ]
     },
     "execution_count": 89,
     "metadata": {},
     "output_type": "execute_result"
    }
   ],
   "source": [
    "'INdia' in countries"
   ]
  },
  {
   "cell_type": "code",
   "execution_count": 91,
   "id": "e27905e3",
   "metadata": {},
   "outputs": [
    {
     "data": {
      "text/plain": [
       "dict_keys(['pakistan', 'Unitedstate', 'INdia', 'China', 'Austrailia'])"
      ]
     },
     "execution_count": 91,
     "metadata": {},
     "output_type": "execute_result"
    }
   ],
   "source": [
    "keys = countries.keys()\n",
    "keys"
   ]
  },
  {
   "cell_type": "code",
   "execution_count": 92,
   "id": "284a9eed",
   "metadata": {},
   "outputs": [
    {
     "data": {
      "text/plain": [
       "dict_values([1, 23, 22, 44, 21])"
      ]
     },
     "execution_count": 92,
     "metadata": {},
     "output_type": "execute_result"
    }
   ],
   "source": [
    "values = countries.values()\n",
    "values"
   ]
  },
  {
   "cell_type": "code",
   "execution_count": 93,
   "id": "4273827b",
   "metadata": {},
   "outputs": [
    {
     "data": {
      "text/plain": [
       "dict_items([('pakistan', 1), ('Unitedstate', 23), ('INdia', 22), ('China', 44), ('Austrailia', 21)])"
      ]
     },
     "execution_count": 93,
     "metadata": {},
     "output_type": "execute_result"
    }
   ],
   "source": [
    "item = countries.items()\n",
    "item"
   ]
  },
  {
   "cell_type": "code",
   "execution_count": 94,
   "id": "3d1990ca",
   "metadata": {},
   "outputs": [
    {
     "data": {
      "text/plain": [
       "21"
      ]
     },
     "execution_count": 94,
     "metadata": {},
     "output_type": "execute_result"
    }
   ],
   "source": [
    "countries.get('Austrailia')"
   ]
  },
  {
   "cell_type": "code",
   "execution_count": 95,
   "id": "d91fcbe6",
   "metadata": {},
   "outputs": [
    {
     "name": "stdout",
     "output_type": "stream",
     "text": [
      "{' ': 1, 'j': 9, 's': 2, 'h': 5, 'f': 4, 'd': 1}\n"
     ]
    }
   ],
   "source": [
    "# Count Alphabets\n",
    "stri = ' jjjjsjhjfhjfhsjhfjdfh'\n",
    "counts = {}\n",
    "for i in stri:\n",
    "    if i not in counts:\n",
    "        counts[i] = 1\n",
    "    else:\n",
    "        counts[i]+=1\n",
    "print(counts)"
   ]
  },
  {
   "cell_type": "code",
   "execution_count": 98,
   "id": "ebee7fd3",
   "metadata": {},
   "outputs": [
    {
     "name": "stdout",
     "output_type": "stream",
     "text": [
      "Enter the word or sentencesdkjha ajfajk asadd\n",
      "{'s': 2, 'd': 3, 'k': 2, 'j': 3, 'h': 1, 'a': 5, ' ': 2, 'f': 1}\n",
      "sdkjha ajfajk asadd\n"
     ]
    }
   ],
   "source": [
    "stri = input(\"Enter the word or sentence\")\n",
    "counts = {}\n",
    "for i in stri:\n",
    "    if i not in counts:\n",
    "        counts[i] = 1\n",
    "    else:\n",
    "        counts[i]+=1\n",
    "print(counts)\n",
    "print(stri)"
   ]
  },
  {
   "cell_type": "code",
   "execution_count": 99,
   "id": "3921c305",
   "metadata": {},
   "outputs": [
    {
     "data": {
      "text/plain": [
       "{'pakistan': 1, 'Unitedstate': 23, 'INdia': 22, 'China': 44, 'Austrailia': 21}"
      ]
     },
     "execution_count": 99,
     "metadata": {},
     "output_type": "execute_result"
    }
   ],
   "source": [
    "countries"
   ]
  },
  {
   "cell_type": "code",
   "execution_count": 100,
   "id": "1fd34459",
   "metadata": {},
   "outputs": [
    {
     "name": "stdout",
     "output_type": "stream",
     "text": [
      "pakistan\n",
      "Unitedstate\n",
      "INdia\n",
      "China\n",
      "Austrailia\n"
     ]
    }
   ],
   "source": [
    "for country in countries:\n",
    "    print(country)"
   ]
  },
  {
   "cell_type": "code",
   "execution_count": 102,
   "id": "a5ec8306",
   "metadata": {},
   "outputs": [
    {
     "name": "stdout",
     "output_type": "stream",
     "text": [
      "pakistan 1\n",
      "Unitedstate 23\n",
      "INdia 22\n",
      "China 44\n",
      "Austrailia 21\n"
     ]
    }
   ],
   "source": [
    "for country, num in countries.items():\n",
    "    print(country,num)"
   ]
  },
  {
   "cell_type": "markdown",
   "id": "2ac2d0c9",
   "metadata": {},
   "source": [
    "# Tuple"
   ]
  },
  {
   "cell_type": "code",
   "execution_count": 103,
   "id": "c0d51bbb",
   "metadata": {},
   "outputs": [
    {
     "data": {
      "text/plain": [
       "3"
      ]
     },
     "execution_count": 103,
     "metadata": {},
     "output_type": "execute_result"
    }
   ],
   "source": [
    "tup = (1,2,3,4,5)\n",
    "tup[2]"
   ]
  },
  {
   "cell_type": "code",
   "execution_count": 105,
   "id": "193e4b25",
   "metadata": {},
   "outputs": [],
   "source": [
    "# tup[2] =4\n",
    "# tuples are imutable we cannot change tuple"
   ]
  },
  {
   "cell_type": "markdown",
   "id": "5805065f",
   "metadata": {},
   "source": [
    "# Sets"
   ]
  },
  {
   "cell_type": "code",
   "execution_count": 106,
   "id": "c30ac878",
   "metadata": {},
   "outputs": [
    {
     "data": {
      "text/plain": [
       "{1, 2, 3, 4, 5, 6}"
      ]
     },
     "execution_count": 106,
     "metadata": {},
     "output_type": "execute_result"
    }
   ],
   "source": [
    "set1 = {1,2,3,4,5,6}\n",
    "set1"
   ]
  },
  {
   "cell_type": "code",
   "execution_count": 107,
   "id": "44e63a1e",
   "metadata": {},
   "outputs": [
    {
     "data": {
      "text/plain": [
       "{0, 2, 4, 5, 6, 7, 8, 9, 34}"
      ]
     },
     "execution_count": 107,
     "metadata": {},
     "output_type": "execute_result"
    }
   ],
   "source": [
    "set2 = {2,34,4,5,6,7,8,8,9,0}\n",
    "set2"
   ]
  },
  {
   "cell_type": "code",
   "execution_count": 108,
   "id": "c6d74f8e",
   "metadata": {},
   "outputs": [
    {
     "name": "stdout",
     "output_type": "stream",
     "text": [
      "List:[1, 1, 3, 7, 9, 3, 5, 7, 9, 9]\n",
      "********\n",
      "Set:{1, 3, 5, 7, 9}\n"
     ]
    }
   ],
   "source": [
    "odd_numbers = [1,1,3,7,9,3,5,7,9,9]\n",
    "\n",
    "print(\"List:{}\".format(odd_numbers))\n",
    "\n",
    "print(\"********\")\n",
    "\n",
    "set_odd_numbers = {1,1,3,7,9,3,5,7,9,9}\n",
    "\n",
    "print(\"Set:{}\".format(set_odd_numbers))"
   ]
  },
  {
   "cell_type": "markdown",
   "id": "97d8333b",
   "metadata": {},
   "source": [
    "# Comparison and Logical Operators"
   ]
  },
  {
   "cell_type": "code",
   "execution_count": 109,
   "id": "39470e35",
   "metadata": {},
   "outputs": [
    {
     "data": {
      "text/plain": [
       "True"
      ]
     },
     "execution_count": 109,
     "metadata": {},
     "output_type": "execute_result"
    }
   ],
   "source": [
    "100 > 1"
   ]
  },
  {
   "cell_type": "code",
   "execution_count": 110,
   "id": "51fa68a2",
   "metadata": {},
   "outputs": [
    {
     "data": {
      "text/plain": [
       "False"
      ]
     },
     "execution_count": 110,
     "metadata": {},
     "output_type": "execute_result"
    }
   ],
   "source": [
    "100 == 1"
   ]
  },
  {
   "cell_type": "code",
   "execution_count": 111,
   "id": "4269805a",
   "metadata": {},
   "outputs": [
    {
     "data": {
      "text/plain": [
       "False"
      ]
     },
     "execution_count": 111,
     "metadata": {},
     "output_type": "execute_result"
    }
   ],
   "source": [
    "100 < 1"
   ]
  },
  {
   "cell_type": "code",
   "execution_count": 112,
   "id": "2f741056",
   "metadata": {},
   "outputs": [
    {
     "data": {
      "text/plain": [
       "True"
      ]
     },
     "execution_count": 112,
     "metadata": {},
     "output_type": "execute_result"
    }
   ],
   "source": [
    "100 >=1"
   ]
  },
  {
   "cell_type": "code",
   "execution_count": 113,
   "id": "5b356abd",
   "metadata": {},
   "outputs": [
    {
     "data": {
      "text/plain": [
       "False"
      ]
     },
     "execution_count": 113,
     "metadata": {},
     "output_type": "execute_result"
    }
   ],
   "source": [
    "'Intro to Python' == 'intro to python'"
   ]
  },
  {
   "cell_type": "code",
   "execution_count": 114,
   "id": "6d7d3161",
   "metadata": {},
   "outputs": [
    {
     "data": {
      "text/plain": [
       "True"
      ]
     },
     "execution_count": 114,
     "metadata": {},
     "output_type": "execute_result"
    }
   ],
   "source": [
    "100 == 100 and 50 == 50"
   ]
  },
  {
   "cell_type": "code",
   "execution_count": 115,
   "id": "9c4d2468",
   "metadata": {},
   "outputs": [
    {
     "data": {
      "text/plain": [
       "False"
      ]
     },
     "execution_count": 115,
     "metadata": {},
     "output_type": "execute_result"
    }
   ],
   "source": [
    "100 <= 10 and 100 == 100"
   ]
  },
  {
   "cell_type": "code",
   "execution_count": 116,
   "id": "6e9756a5",
   "metadata": {},
   "outputs": [
    {
     "data": {
      "text/plain": [
       "True"
      ]
     },
     "execution_count": 116,
     "metadata": {},
     "output_type": "execute_result"
    }
   ],
   "source": [
    "100 == 10 or 100 == 100"
   ]
  },
  {
   "cell_type": "code",
   "execution_count": 117,
   "id": "77f46190",
   "metadata": {},
   "outputs": [
    {
     "data": {
      "text/plain": [
       "True"
      ]
     },
     "execution_count": 117,
     "metadata": {},
     "output_type": "execute_result"
    }
   ],
   "source": [
    "not 1 == 2"
   ]
  },
  {
   "cell_type": "code",
   "execution_count": 118,
   "id": "1f7ca63d",
   "metadata": {},
   "outputs": [
    {
     "data": {
      "text/plain": [
       "False"
      ]
     },
     "execution_count": 118,
     "metadata": {},
     "output_type": "execute_result"
    }
   ],
   "source": [
    "not 1 == 1"
   ]
  },
  {
   "cell_type": "markdown",
   "id": "140004d6",
   "metadata": {},
   "source": [
    "# Control Flow"
   ]
  },
  {
   "cell_type": "markdown",
   "id": "cbf8f05b",
   "metadata": {},
   "source": [
    "# if elif else"
   ]
  },
  {
   "cell_type": "code",
   "execution_count": 119,
   "id": "953e946e",
   "metadata": {},
   "outputs": [],
   "source": [
    "if 100 < 2:\n",
    "\n",
    "  print(\"As expected, no thing will be displayed\")"
   ]
  },
  {
   "cell_type": "code",
   "execution_count": 120,
   "id": "fffc799b",
   "metadata": {},
   "outputs": [
    {
     "name": "stdout",
     "output_type": "stream",
     "text": [
      "As expected, no thing will be displayed\n"
     ]
    }
   ],
   "source": [
    "if 100 > 2:\n",
    "\n",
    "  print(\"As expected, no thing will be displayed\")"
   ]
  },
  {
   "cell_type": "code",
   "execution_count": 121,
   "id": "168570d0",
   "metadata": {},
   "outputs": [
    {
     "name": "stdout",
     "output_type": "stream",
     "text": [
      "Printed\n"
     ]
    }
   ],
   "source": [
    "if 100 < 2:\n",
    "\n",
    "  print(\"As expected, no thing will be displayed\")\n",
    "\n",
    "else:\n",
    "  print('Printed')"
   ]
  },
  {
   "cell_type": "code",
   "execution_count": 122,
   "id": "021e2e58",
   "metadata": {},
   "outputs": [
    {
     "name": "stdout",
     "output_type": "stream",
     "text": [
      "John is older than Luck\n"
     ]
    }
   ],
   "source": [
    "john_age = 30\n",
    "luck_age = 20\n",
    "\n",
    "if john_age > luck_age:\n",
    "  print(\"John is older than Luck\")\n",
    "\n",
    "else:\n",
    "  print(\" John is younger than Luck\")"
   ]
  },
  {
   "cell_type": "code",
   "execution_count": 123,
   "id": "e2b29f7f",
   "metadata": {},
   "outputs": [
    {
     "name": "stdout",
     "output_type": "stream",
     "text": [
      "John's age is same as Yan\n"
     ]
    }
   ],
   "source": [
    "\n",
    "john_age = 30\n",
    "luck_age = 20\n",
    "yan_age = 30\n",
    "\n",
    "if john_age < luck_age:\n",
    "  print(\"John is older than Luck\")\n",
    "\n",
    "elif yan_age == luck_age:\n",
    "  print(\" Yan's Age is same as Luck\")\n",
    "\n",
    "elif luck_age > john_age:\n",
    "  print(\"Luck is older than John\")\n",
    "\n",
    "else:\n",
    "  print(\"John's age is same as Yan\")"
   ]
  },
  {
   "cell_type": "code",
   "execution_count": 124,
   "id": "a6983dfb",
   "metadata": {},
   "outputs": [
    {
     "data": {
      "text/plain": [
       "'Odd'"
      ]
     },
     "execution_count": 124,
     "metadata": {},
     "output_type": "execute_result"
    }
   ],
   "source": [
    "num = 45\n",
    "\n",
    "'Even' if num % 2 == 0 else 'Odd'"
   ]
  },
  {
   "cell_type": "code",
   "execution_count": 125,
   "id": "44ab4cae",
   "metadata": {},
   "outputs": [
    {
     "data": {
      "text/plain": [
       "True"
      ]
     },
     "execution_count": 125,
     "metadata": {},
     "output_type": "execute_result"
    }
   ],
   "source": [
    "nums = [1,2,3,4,5,6]\n",
    "\n",
    "True if 3 in nums else False"
   ]
  },
  {
   "cell_type": "markdown",
   "id": "a39e6378",
   "metadata": {},
   "source": [
    "# For Loop"
   ]
  },
  {
   "cell_type": "code",
   "execution_count": 126,
   "id": "e8b7bd95",
   "metadata": {},
   "outputs": [
    {
     "name": "stdout",
     "output_type": "stream",
     "text": [
      "2\n",
      "4\n",
      "6\n",
      "8\n",
      "10\n"
     ]
    }
   ],
   "source": [
    "even_nums = [2,4,6,8,10]\n",
    "\n",
    "for num in even_nums:\n",
    "  print(num)"
   ]
  },
  {
   "cell_type": "code",
   "execution_count": 127,
   "id": "1d68ff6c",
   "metadata": {},
   "outputs": [
    {
     "name": "stdout",
     "output_type": "stream",
     "text": [
      "Mon\n",
      "Tue\n",
      "Wed\n",
      "Thur\n",
      "Fri\n"
     ]
    }
   ],
   "source": [
    "week_days = ['Mon', 'Tue', 'Wed', 'Thur','Fri']\n",
    "\n",
    "for day in week_days:\n",
    "  print(day)"
   ]
  },
  {
   "cell_type": "code",
   "execution_count": 128,
   "id": "23b5284e",
   "metadata": {},
   "outputs": [
    {
     "name": "stdout",
     "output_type": "stream",
     "text": [
      "I\n",
      "t\n",
      "'\n",
      "s\n",
      " \n",
      "b\n",
      "e\n",
      "e\n",
      "n\n",
      " \n",
      "a\n",
      " \n",
      "l\n",
      "o\n",
      "n\n",
      "g\n",
      " \n",
      "t\n",
      "i\n",
      "m\n",
      "e\n",
      " \n",
      "l\n",
      "e\n",
      "a\n",
      "r\n",
      "n\n",
      "i\n",
      "n\n",
      "g\n",
      " \n",
      "P\n",
      "y\n",
      "t\n",
      "h\n",
      "o\n",
      "n\n",
      ".\n",
      " \n",
      "I\n",
      " \n",
      "a\n",
      "m\n",
      " \n",
      "r\n",
      "e\n",
      "v\n",
      "i\n",
      "s\n",
      "i\n",
      "t\n",
      "i\n",
      "n\n",
      "g\n",
      " \n",
      "t\n",
      "h\n",
      "e\n",
      " \n",
      "b\n",
      "a\n",
      "s\n",
      "i\n",
      "c\n",
      "s\n",
      "!\n",
      "!\n"
     ]
    }
   ],
   "source": [
    "sentence = \"It's been a long time learning Python. I am revisiting the basics!!\"\n",
    "\n",
    "for letter in sentence:\n",
    "  print(letter)"
   ]
  },
  {
   "cell_type": "code",
   "execution_count": 129,
   "id": "812dfa55",
   "metadata": {},
   "outputs": [
    {
     "name": "stdout",
     "output_type": "stream",
     "text": [
      "It's\n",
      "been\n",
      "a\n",
      "long\n",
      "time\n",
      "learning\n",
      "Python.\n",
      "I\n",
      "am\n",
      "revisiting\n",
      "the\n",
      "basics!!\n"
     ]
    }
   ],
   "source": [
    "sentence = \"It's been a long time learning Python. I am revisiting the basics!!\"\n",
    "\n",
    "# split is a string method to split the words making the string\n",
    "\n",
    "for letter in sentence.split():\n",
    "  print(letter)"
   ]
  },
  {
   "cell_type": "code",
   "execution_count": 130,
   "id": "93013f0a",
   "metadata": {},
   "outputs": [
    {
     "name": "stdout",
     "output_type": "stream",
     "text": [
      "United States\n",
      "India\n",
      "Germany\n",
      "China\n",
      "Rwanda\n"
     ]
    }
   ],
   "source": [
    "\n",
    "countries_code = { \"United States\": 1,\n",
    "                 \"India\": 91,\n",
    "                 \"Germany\": 49,\n",
    "                 \"China\": 86,\n",
    "                 \"Rwanda\":250\n",
    "            }\n",
    "\n",
    "for country in countries_code:\n",
    "  print(country)"
   ]
  },
  {
   "cell_type": "code",
   "execution_count": 131,
   "id": "9e22730f",
   "metadata": {},
   "outputs": [
    {
     "name": "stdout",
     "output_type": "stream",
     "text": [
      "10\n",
      "11\n",
      "12\n",
      "13\n",
      "14\n",
      "15\n",
      "16\n",
      "17\n",
      "18\n",
      "19\n"
     ]
    }
   ],
   "source": [
    "for number in range(10, 20):\n",
    "  print(number)"
   ]
  },
  {
   "cell_type": "code",
   "execution_count": 132,
   "id": "3f64376a",
   "metadata": {},
   "outputs": [
    {
     "data": {
      "text/plain": [
       "['M', 'a', 'c', 'h', 'i', 'n', 'e', 'L', 'e', 'a', 'r', 'n', 'i', 'n', 'g']"
      ]
     },
     "execution_count": 132,
     "metadata": {},
     "output_type": "execute_result"
    }
   ],
   "source": [
    "letters = []\n",
    "\n",
    "for letter in 'MachineLearning':\n",
    "  letters.append(letter)\n",
    "\n",
    "letters"
   ]
  },
  {
   "cell_type": "code",
   "execution_count": 133,
   "id": "963422aa",
   "metadata": {},
   "outputs": [
    {
     "data": {
      "text/plain": [
       "['M', 'a', 'c', 'h', 'i', 'n', 'e', 'L', 'e', 'a', 'r', 'n', 'i', 'n', 'g']"
      ]
     },
     "execution_count": 133,
     "metadata": {},
     "output_type": "execute_result"
    }
   ],
   "source": [
    "letters = [letter for letter in 'MachineLearning']\n",
    "\n",
    "letters"
   ]
  },
  {
   "cell_type": "markdown",
   "id": "a762c40d",
   "metadata": {},
   "source": [
    "# While Loop"
   ]
  },
  {
   "cell_type": "code",
   "execution_count": 134,
   "id": "5a92418e",
   "metadata": {},
   "outputs": [
    {
     "name": "stdout",
     "output_type": "stream",
     "text": [
      "a is: 10\n",
      "a is: 11\n",
      "a is: 12\n",
      "a is: 13\n",
      "a is: 14\n",
      "a is: 15\n",
      "a is: 16\n",
      "a is: 17\n",
      "a is: 18\n",
      "a is: 19\n"
     ]
    }
   ],
   "source": [
    "a = 10\n",
    "while a < 20:\n",
    "    print('a is: {}'.format(a))\n",
    "    a = a + 1"
   ]
  },
  {
   "cell_type": "markdown",
   "id": "2e14e728",
   "metadata": {},
   "source": [
    "# Funtions"
   ]
  },
  {
   "cell_type": "code",
   "execution_count": 135,
   "id": "b352ddd8",
   "metadata": {},
   "outputs": [],
   "source": [
    "def add_nums(a,b):\n",
    "\n",
    "  \"\"\"\n",
    "  Function to add two numbers given as inputs\n",
    "  It will return a sum of these two numbers\n",
    "  \"\"\"\n",
    "\n",
    "  sum = a+b\n",
    "  \n",
    "  return sum"
   ]
  },
  {
   "cell_type": "code",
   "execution_count": 136,
   "id": "dd3ab35c",
   "metadata": {},
   "outputs": [
    {
     "data": {
      "text/plain": [
       "5"
      ]
     },
     "execution_count": 136,
     "metadata": {},
     "output_type": "execute_result"
    }
   ],
   "source": [
    "add_nums(2,3)"
   ]
  },
  {
   "cell_type": "code",
   "execution_count": 137,
   "id": "212027d0",
   "metadata": {},
   "outputs": [],
   "source": [
    "def activity(name_1, name_2):\n",
    "\n",
    "  print(\"{} and {} are playing basketball!\".format(name_1, name_2))"
   ]
  },
  {
   "cell_type": "code",
   "execution_count": 138,
   "id": "cf1b0be5",
   "metadata": {},
   "outputs": [
    {
     "name": "stdout",
     "output_type": "stream",
     "text": [
      "rana and asad are playing basketball!\n"
     ]
    }
   ],
   "source": [
    "activity('rana','asad')"
   ]
  },
  {
   "cell_type": "code",
   "execution_count": 139,
   "id": "5f9cea4e",
   "metadata": {},
   "outputs": [
    {
     "data": {
      "text/plain": [
       "9"
      ]
     },
     "execution_count": 139,
     "metadata": {},
     "output_type": "execute_result"
    }
   ],
   "source": [
    "# using of lambda\n",
    "sum_of_two_nums = lambda c,d: c + d\n",
    "\n",
    "sum_of_two_nums(4,5)"
   ]
  },
  {
   "cell_type": "code",
   "execution_count": 140,
   "id": "898e16e7",
   "metadata": {},
   "outputs": [
    {
     "data": {
      "text/plain": [
       "15"
      ]
     },
     "execution_count": 140,
     "metadata": {},
     "output_type": "execute_result"
    }
   ],
   "source": [
    "message = 'Do not give up!'\n",
    "len(message)"
   ]
  },
  {
   "cell_type": "code",
   "execution_count": 141,
   "id": "0db5f156",
   "metadata": {},
   "outputs": [
    {
     "data": {
      "text/plain": [
       "4"
      ]
     },
     "execution_count": 141,
     "metadata": {},
     "output_type": "execute_result"
    }
   ],
   "source": [
    "odd_numbers = [1,3,5,7]\n",
    "len(odd_numbers)"
   ]
  },
  {
   "cell_type": "code",
   "execution_count": 142,
   "id": "5d96d023",
   "metadata": {},
   "outputs": [
    {
     "data": {
      "text/plain": [
       "[1, 3, 5, 7, 9, 11, 13, 15]"
      ]
     },
     "execution_count": 142,
     "metadata": {},
     "output_type": "execute_result"
    }
   ],
   "source": [
    "odd_numbers = [9,7,3,5,11,13,15,1]\n",
    "\n",
    "sorted(odd_numbers)"
   ]
  },
  {
   "cell_type": "markdown",
   "id": "ab771c97",
   "metadata": {},
   "source": [
    "# Map Functions"
   ]
  },
  {
   "cell_type": "code",
   "execution_count": 143,
   "id": "f133430e",
   "metadata": {},
   "outputs": [],
   "source": [
    "def cubic(number):\n",
    "  return number ** 3"
   ]
  },
  {
   "cell_type": "code",
   "execution_count": 144,
   "id": "334ca1b9",
   "metadata": {},
   "outputs": [
    {
     "data": {
      "text/plain": [
       "8"
      ]
     },
     "execution_count": 144,
     "metadata": {},
     "output_type": "execute_result"
    }
   ],
   "source": [
    "cubic(2)"
   ]
  },
  {
   "cell_type": "code",
   "execution_count": 145,
   "id": "46769d0f",
   "metadata": {},
   "outputs": [],
   "source": [
    "num_list = [0,1,2,3,4]"
   ]
  },
  {
   "cell_type": "code",
   "execution_count": 146,
   "id": "ac261941",
   "metadata": {},
   "outputs": [
    {
     "data": {
      "text/plain": [
       "[0, 1, 8, 27, 64]"
      ]
     },
     "execution_count": 146,
     "metadata": {},
     "output_type": "execute_result"
    }
   ],
   "source": [
    "list(map(cubic, num_list))"
   ]
  },
  {
   "cell_type": "markdown",
   "id": "aa4f7dd4",
   "metadata": {},
   "source": [
    "# Filter funtions"
   ]
  },
  {
   "cell_type": "code",
   "execution_count": 147,
   "id": "4a9608d6",
   "metadata": {},
   "outputs": [],
   "source": [
    "def odd_check(number):\n",
    "  \n",
    "  return number % 2 != 0 \n",
    "\n",
    "# != is not equal to operation"
   ]
  },
  {
   "cell_type": "code",
   "execution_count": 148,
   "id": "d781064d",
   "metadata": {},
   "outputs": [
    {
     "data": {
      "text/plain": [
       "[1, 5, 7, 9, 11]"
      ]
     },
     "execution_count": 148,
     "metadata": {},
     "output_type": "execute_result"
    }
   ],
   "source": [
    "num_list = [1,2,4,5,6,7,8,9,10,11]\n",
    "\n",
    "list(filter(odd_check, num_list))"
   ]
  },
  {
   "cell_type": "markdown",
   "id": "cd7da794",
   "metadata": {},
   "source": [
    "# List Comprehension"
   ]
  },
  {
   "cell_type": "code",
   "execution_count": 149,
   "id": "fbf71cf8",
   "metadata": {},
   "outputs": [
    {
     "name": "stdout",
     "output_type": "stream",
     "text": [
      "[2, 4, 6, 8, 10, 12, 14, 16, 18]\n"
     ]
    }
   ],
   "source": [
    "# Given a list of numbers, can you make a new list of even numbers from the list nums?\n",
    "# Even numbers are numbers divisible by 2, and they give the remainder of 0\n",
    "\n",
    "nums = range(1,20)\n",
    "even_nums = []\n",
    "\n",
    "\n",
    "# A traditional way to do it is:\n",
    "\n",
    "for num in nums: \n",
    "  if num % 2 == 0: \n",
    "    even_nums.append(num)\n",
    "\n",
    "print(even_nums)"
   ]
  },
  {
   "cell_type": "code",
   "execution_count": 150,
   "id": "757bad57",
   "metadata": {},
   "outputs": [
    {
     "name": "stdout",
     "output_type": "stream",
     "text": [
      "[2, 4, 6, 8, 10, 12, 14, 16, 18]\n"
     ]
    }
   ],
   "source": [
    "even_nums = [num for num in nums if num % 2 == 0]\n",
    "print(even_nums)"
   ]
  },
  {
   "cell_type": "code",
   "execution_count": 151,
   "id": "ea5cb515",
   "metadata": {},
   "outputs": [
    {
     "name": "stdout",
     "output_type": "stream",
     "text": [
      "['Tuesday', 'Thursday']\n"
     ]
    }
   ],
   "source": [
    "days = ['Monday', 'Tuesday', 'Wednesday', 'Thursday', 'Friday', 'Saturday']\n",
    "day_T = []\n",
    "\n",
    "# Make a list of days that start with `T`\n",
    "\n",
    "for day in days: \n",
    "  if day[0] == 'T':\n",
    "    day_T.append(day)\n",
    "\n",
    "print(day_T)"
   ]
  },
  {
   "cell_type": "code",
   "execution_count": 152,
   "id": "f2f1ce40",
   "metadata": {},
   "outputs": [
    {
     "name": "stdout",
     "output_type": "stream",
     "text": [
      "['Tuesday', 'Thursday']\n"
     ]
    }
   ],
   "source": [
    "day_T = [day for day in days if day[0] == 'T']\n",
    "print(day_T)"
   ]
  },
  {
   "cell_type": "markdown",
   "id": "96a0a0f4",
   "metadata": {},
   "source": [
    "# Enumerate Function"
   ]
  },
  {
   "cell_type": "code",
   "execution_count": 153,
   "id": "a1bba19b",
   "metadata": {},
   "outputs": [
    {
     "data": {
      "text/plain": [
       "[(0, 'Spring'), (1, 'Summer'), (2, 'Fall'), (3, 'Winter')]"
      ]
     },
     "execution_count": 153,
     "metadata": {},
     "output_type": "execute_result"
    }
   ],
   "source": [
    "seasons = ['Spring', 'Summer', 'Fall', 'Winter']\n",
    "\n",
    "list(enumerate(seasons))"
   ]
  },
  {
   "cell_type": "code",
   "execution_count": 154,
   "id": "b2963262",
   "metadata": {},
   "outputs": [
    {
     "data": {
      "text/plain": [
       "[(1, 'Spring'), (2, 'Summer'), (3, 'Fall'), (4, 'Winter')]"
      ]
     },
     "execution_count": 154,
     "metadata": {},
     "output_type": "execute_result"
    }
   ],
   "source": [
    "list(enumerate(seasons, start=1))"
   ]
  },
  {
   "cell_type": "code",
   "execution_count": 155,
   "id": "8071bdf2",
   "metadata": {},
   "outputs": [
    {
     "name": "stdout",
     "output_type": "stream",
     "text": [
      "0 - Rock\n",
      "1 - Paper\n",
      "2 - Scissor\n"
     ]
    }
   ],
   "source": [
    "class_names = ['Rock', 'Paper', 'Scissor']\n",
    "\n",
    "for index, class_name in enumerate(class_names, start=0):\n",
    "  print(index,'-',class_name)"
   ]
  },
  {
   "cell_type": "markdown",
   "id": "f6c18f5e",
   "metadata": {},
   "source": [
    "# Zip  Function"
   ]
  },
  {
   "cell_type": "code",
   "execution_count": 156,
   "id": "6723ae71",
   "metadata": {},
   "outputs": [
    {
     "data": {
      "text/plain": [
       "<zip at 0x1f81c242c00>"
      ]
     },
     "execution_count": 156,
     "metadata": {},
     "output_type": "execute_result"
    }
   ],
   "source": [
    "name = ['Jessy', 'Joe', 'Jeannette']\n",
    "role = ['ML Engineer', 'Web Developer', 'Data Engineer']\n",
    "\n",
    "zipped_name_role = zip(name, role)\n",
    "zipped_name_role"
   ]
  },
  {
   "cell_type": "code",
   "execution_count": 157,
   "id": "101c2b82",
   "metadata": {},
   "outputs": [
    {
     "data": {
      "text/plain": [
       "[('Jessy', 'ML Engineer'),\n",
       " ('Joe', 'Web Developer'),\n",
       " ('Jeannette', 'Data Engineer')]"
      ]
     },
     "execution_count": 157,
     "metadata": {},
     "output_type": "execute_result"
    }
   ],
   "source": [
    "list(zipped_name_role)"
   ]
  },
  {
   "cell_type": "code",
   "execution_count": null,
   "id": "de4fd4ba",
   "metadata": {},
   "outputs": [],
   "source": []
  }
 ],
 "metadata": {
  "kernelspec": {
   "display_name": "Python 3 (ipykernel)",
   "language": "python",
   "name": "python3"
  },
  "language_info": {
   "codemirror_mode": {
    "name": "ipython",
    "version": 3
   },
   "file_extension": ".py",
   "mimetype": "text/x-python",
   "name": "python",
   "nbconvert_exporter": "python",
   "pygments_lexer": "ipython3",
   "version": "3.9.7"
  }
 },
 "nbformat": 4,
 "nbformat_minor": 5
}
